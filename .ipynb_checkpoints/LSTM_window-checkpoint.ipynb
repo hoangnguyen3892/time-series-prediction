{
 "cells": [
  {
   "cell_type": "code",
   "execution_count": 1,
   "metadata": {
    "collapsed": true
   },
   "outputs": [],
   "source": [
    "import pandas\n",
    "import matplotlib.pyplot as plt\n",
    "import seaborn as sns\n",
    "import numpy as np\n",
    "import math\n",
    "\n",
    "import warnings\n",
    "warnings.filterwarnings('ignore')\n",
    "%matplotlib inline"
   ]
  },
  {
   "cell_type": "code",
   "execution_count": 2,
   "metadata": {
    "collapsed": false
   },
   "outputs": [
    {
     "name": "stderr",
     "output_type": "stream",
     "text": [
      "Using Theano backend.\n"
     ]
    }
   ],
   "source": [
    "from keras.models import Sequential\n",
    "from keras.layers import Dense\n",
    "from keras.layers import LSTM\n",
    "from sklearn.preprocessing import MinMaxScaler\n",
    "from sklearn.metrics import mean_squared_error"
   ]
  },
  {
   "cell_type": "markdown",
   "metadata": {},
   "source": [
    "# Load data"
   ]
  },
  {
   "cell_type": "code",
   "execution_count": 3,
   "metadata": {
    "collapsed": true
   },
   "outputs": [],
   "source": [
    "dataset = pandas.read_csv('input/international-airline-passengers.csv', usecols=[1], engine='python', skipfooter=3)"
   ]
  },
  {
   "cell_type": "code",
   "execution_count": 4,
   "metadata": {
    "collapsed": false
   },
   "outputs": [
    {
     "data": {
      "image/png": "[encoded data removed]",
      "text/plain": [
       "<matplotlib.figure.Figure at 0x10a933e80>"
      ]
     },
     "metadata": {},
     "output_type": "display_data"
    }
   ],
   "source": [
    "plt.plot(dataset)\n",
    "plt.show()"
   ]
  },
  {
   "cell_type": "code",
   "execution_count": 5,
   "metadata": {
    "collapsed": false
   },
   "outputs": [],
   "source": [
    "dataset = dataset.values\n",
    "dataset = dataset.astype('float32')"
   ]
  },
  {
   "cell_type": "code",
   "execution_count": 6,
   "metadata": {
    "collapsed": false
   },
   "outputs": [],
   "source": [
    "#dataset"
   ]
  },
  {
   "cell_type": "markdown",
   "metadata": {},
   "source": [
    "# LSTM"
   ]
  },
  {
   "cell_type": "markdown",
   "metadata": {},
   "source": [
    "There are three types of gates:\n",
    "- **Forget Gate**: conditionally decides what information to throw away from the block.\n",
    "- **Input Gate**: conditionally decides which values from the input to update the memory state.\n",
    "- **Output Gate**: conditionally decides what to output based on input and the memory of the block."
   ]
  },
  {
   "cell_type": "code",
   "execution_count": 7,
   "metadata": {
    "collapsed": true
   },
   "outputs": [],
   "source": [
    "# Fix the random seed\n",
    "np.random.seed(7)"
   ]
  },
  {
   "cell_type": "markdown",
   "metadata": {},
   "source": [
    "## Preparing data"
   ]
  },
  {
   "cell_type": "code",
   "execution_count": 8,
   "metadata": {
    "collapsed": true
   },
   "outputs": [],
   "source": [
    "# Normalize the dataset\n",
    "scaler = MinMaxScaler(feature_range=(0, 1))\n",
    "scaled_dataset = scaler.fit_transform(dataset)"
   ]
  },
  {
   "cell_type": "code",
   "execution_count": 9,
   "metadata": {
    "collapsed": true
   },
   "outputs": [],
   "source": [
    "# Split dataset into train and test\n",
    "train_size = int(len(dataset) * 0.67)\n",
    "test_size = len(dataset) - train_size"
   ]
  },
  {
   "cell_type": "code",
   "execution_count": 10,
   "metadata": {
    "collapsed": false
   },
   "outputs": [
    {
     "data": {
      "text/plain": [
       "96"
      ]
     },
     "execution_count": 10,
     "metadata": {},
     "output_type": "execute_result"
    }
   ],
   "source": [
    "train_size"
   ]
  },
  {
   "cell_type": "code",
   "execution_count": 11,
   "metadata": {
    "collapsed": false
   },
   "outputs": [
    {
     "data": {
      "text/plain": [
       "48"
      ]
     },
     "execution_count": 11,
     "metadata": {},
     "output_type": "execute_result"
    }
   ],
   "source": [
    "test_size"
   ]
  },
  {
   "cell_type": "code",
   "execution_count": 12,
   "metadata": {
    "collapsed": false
   },
   "outputs": [],
   "source": [
    "train, test = scaled_dataset[0:train_size,:], scaled_dataset[train_size:len(dataset),:]"
   ]
  },
  {
   "cell_type": "code",
   "execution_count": 13,
   "metadata": {
    "collapsed": false
   },
   "outputs": [],
   "source": [
    "#scaled_dataset[0:train_size]\n",
    "#scaled_dataset[0:train_size,:]"
   ]
  },
  {
   "cell_type": "code",
   "execution_count": 14,
   "metadata": {
    "collapsed": true
   },
   "outputs": [],
   "source": [
    "# convert an array of values into a dataset matrix\n",
    "def create_dataset(dataset, look_back=1):\n",
    "    dataX, dataY = [], []\n",
    "    for i in range(len(dataset)-look_back-1):\n",
    "        a = dataset[i:(i+look_back), 0]\n",
    "        dataX.append(a)\n",
    "        dataY.append(dataset[i + look_back, 0])\n",
    "    return np.array(dataX), np.array(dataY)"
   ]
  },
  {
   "cell_type": "code",
   "execution_count": 15,
   "metadata": {
    "collapsed": false
   },
   "outputs": [],
   "source": [
    "# reshape into X=t and Y=t+1\n",
    "look_back = 3\n",
    "trainX, trainY = create_dataset(train, look_back)\n",
    "testX, testY = create_dataset(test, look_back)"
   ]
  },
  {
   "cell_type": "code",
   "execution_count": 16,
   "metadata": {
    "collapsed": false
   },
   "outputs": [
    {
     "data": {
      "text/plain": [
       "((92, 3), (92,))"
      ]
     },
     "execution_count": 16,
     "metadata": {},
     "output_type": "execute_result"
    }
   ],
   "source": [
    "trainX.shape, trainY.shape"
   ]
  },
  {
   "cell_type": "code",
   "execution_count": 17,
   "metadata": {
    "collapsed": false
   },
   "outputs": [],
   "source": [
    "# reshape input to be [samples, time steps, features]\n",
    "trainX = np.reshape(trainX, (trainX.shape[0], 1, trainX.shape[1]))\n",
    "testX = np.reshape(testX, (testX.shape[0], 1, testX.shape[1]))"
   ]
  },
  {
   "cell_type": "code",
   "execution_count": 18,
   "metadata": {
    "collapsed": false
   },
   "outputs": [
    {
     "data": {
      "text/plain": [
       "(92, 1, 3)"
      ]
     },
     "execution_count": 18,
     "metadata": {},
     "output_type": "execute_result"
    }
   ],
   "source": [
    "trainX.shape"
   ]
  },
  {
   "cell_type": "markdown",
   "metadata": {},
   "source": [
    "## Running model"
   ]
  },
  {
   "cell_type": "code",
   "execution_count": 19,
   "metadata": {
    "collapsed": false
   },
   "outputs": [
    {
     "name": "stdout",
     "output_type": "stream",
     "text": [
      "Epoch 1/100\n",
      "0s - loss: 0.0712\n",
      "Epoch 2/100\n",
      "0s - loss: 0.0363\n",
      "Epoch 3/100\n",
      "0s - loss: 0.0239\n",
      "Epoch 4/100\n",
      "0s - loss: 0.0196\n",
      "Epoch 5/100\n",
      "0s - loss: 0.0178\n",
      "Epoch 6/100\n",
      "0s - loss: 0.0164\n",
      "Epoch 7/100\n",
      "0s - loss: 0.0149\n",
      "Epoch 8/100\n",
      "0s - loss: 0.0136\n",
      "Epoch 9/100\n",
      "0s - loss: 0.0123\n",
      "Epoch 10/100\n",
      "0s - loss: 0.0110\n",
      "Epoch 11/100\n",
      "0s - loss: 0.0099\n",
      "Epoch 12/100\n",
      "0s - loss: 0.0087\n",
      "Epoch 13/100\n",
      "0s - loss: 0.0077\n",
      "Epoch 14/100\n",
      "0s - loss: 0.0069\n",
      "Epoch 15/100\n",
      "0s - loss: 0.0062\n",
      "Epoch 16/100\n",
      "0s - loss: 0.0056\n",
      "Epoch 17/100\n",
      "0s - loss: 0.0051\n",
      "Epoch 18/100\n",
      "0s - loss: 0.0047\n",
      "Epoch 19/100\n",
      "0s - loss: 0.0044\n",
      "Epoch 20/100\n",
      "0s - loss: 0.0042\n",
      "Epoch 21/100\n",
      "0s - loss: 0.0041\n",
      "Epoch 22/100\n",
      "0s - loss: 0.0039\n",
      "Epoch 23/100\n",
      "0s - loss: 0.0038\n",
      "Epoch 24/100\n",
      "0s - loss: 0.0037\n",
      "Epoch 25/100\n",
      "0s - loss: 0.0037\n",
      "Epoch 26/100\n",
      "0s - loss: 0.0037\n",
      "Epoch 27/100\n",
      "0s - loss: 0.0036\n",
      "Epoch 28/100\n",
      "0s - loss: 0.0036\n",
      "Epoch 29/100\n",
      "0s - loss: 0.0036\n",
      "Epoch 30/100\n",
      "0s - loss: 0.0035\n",
      "Epoch 31/100\n",
      "0s - loss: 0.0035\n",
      "Epoch 32/100\n",
      "0s - loss: 0.0034\n",
      "Epoch 33/100\n",
      "0s - loss: 0.0035\n",
      "Epoch 34/100\n",
      "0s - loss: 0.0033\n",
      "Epoch 35/100\n",
      "0s - loss: 0.0032\n",
      "Epoch 36/100\n",
      "0s - loss: 0.0032\n",
      "Epoch 37/100\n",
      "0s - loss: 0.0031\n",
      "Epoch 38/100\n",
      "0s - loss: 0.0032\n",
      "Epoch 39/100\n",
      "0s - loss: 0.0031\n",
      "Epoch 40/100\n",
      "0s - loss: 0.0031\n",
      "Epoch 41/100\n",
      "0s - loss: 0.0031\n",
      "Epoch 42/100\n",
      "0s - loss: 0.0030\n",
      "Epoch 43/100\n",
      "0s - loss: 0.0030\n",
      "Epoch 44/100\n",
      "0s - loss: 0.0029\n",
      "Epoch 45/100\n",
      "0s - loss: 0.0029\n",
      "Epoch 46/100\n",
      "0s - loss: 0.0029\n",
      "Epoch 47/100\n",
      "0s - loss: 0.0028\n",
      "Epoch 48/100\n",
      "0s - loss: 0.0029\n",
      "Epoch 49/100\n",
      "0s - loss: 0.0027\n",
      "Epoch 50/100\n",
      "0s - loss: 0.0028\n",
      "Epoch 51/100\n",
      "0s - loss: 0.0027\n",
      "Epoch 52/100\n",
      "0s - loss: 0.0027\n",
      "Epoch 53/100\n",
      "0s - loss: 0.0026\n",
      "Epoch 54/100\n",
      "0s - loss: 0.0026\n",
      "Epoch 55/100\n",
      "0s - loss: 0.0027\n",
      "Epoch 56/100\n",
      "0s - loss: 0.0026\n",
      "Epoch 57/100\n",
      "0s - loss: 0.0027\n",
      "Epoch 58/100\n",
      "0s - loss: 0.0025\n",
      "Epoch 59/100\n",
      "0s - loss: 0.0026\n",
      "Epoch 60/100\n",
      "0s - loss: 0.0025\n",
      "Epoch 61/100\n",
      "0s - loss: 0.0024\n",
      "Epoch 62/100\n",
      "0s - loss: 0.0024\n",
      "Epoch 63/100\n",
      "0s - loss: 0.0024\n",
      "Epoch 64/100\n",
      "0s - loss: 0.0024\n",
      "Epoch 65/100\n",
      "0s - loss: 0.0024\n",
      "Epoch 66/100\n",
      "0s - loss: 0.0023\n",
      "Epoch 67/100\n",
      "0s - loss: 0.0025\n",
      "Epoch 68/100\n",
      "0s - loss: 0.0023\n",
      "Epoch 69/100\n",
      "0s - loss: 0.0023\n",
      "Epoch 70/100\n",
      "0s - loss: 0.0022\n",
      "Epoch 71/100\n",
      "0s - loss: 0.0023\n",
      "Epoch 72/100\n",
      "0s - loss: 0.0022\n",
      "Epoch 73/100\n",
      "0s - loss: 0.0023\n",
      "Epoch 74/100\n",
      "0s - loss: 0.0022\n",
      "Epoch 75/100\n",
      "0s - loss: 0.0022\n",
      "Epoch 76/100\n",
      "0s - loss: 0.0022\n",
      "Epoch 77/100\n",
      "0s - loss: 0.0023\n",
      "Epoch 78/100\n",
      "0s - loss: 0.0022\n",
      "Epoch 79/100\n",
      "0s - loss: 0.0022\n",
      "Epoch 80/100\n",
      "0s - loss: 0.0021\n",
      "Epoch 81/100\n",
      "0s - loss: 0.0021\n",
      "Epoch 82/100\n",
      "0s - loss: 0.0021\n",
      "Epoch 83/100\n",
      "0s - loss: 0.0021\n",
      "Epoch 84/100\n",
      "0s - loss: 0.0020\n",
      "Epoch 85/100\n",
      "0s - loss: 0.0021\n",
      "Epoch 86/100\n",
      "0s - loss: 0.0021\n",
      "Epoch 87/100\n",
      "0s - loss: 0.0021\n",
      "Epoch 88/100\n",
      "0s - loss: 0.0020\n",
      "Epoch 89/100\n",
      "0s - loss: 0.0020\n",
      "Epoch 90/100\n",
      "0s - loss: 0.0021\n",
      "Epoch 91/100\n",
      "0s - loss: 0.0020\n",
      "Epoch 92/100\n",
      "0s - loss: 0.0020\n",
      "Epoch 93/100\n",
      "0s - loss: 0.0021\n",
      "Epoch 94/100\n",
      "0s - loss: 0.0020\n",
      "Epoch 95/100\n",
      "0s - loss: 0.0020\n",
      "Epoch 96/100\n",
      "0s - loss: 0.0019\n",
      "Epoch 97/100\n",
      "0s - loss: 0.0020\n",
      "Epoch 98/100\n",
      "0s - loss: 0.0020\n",
      "Epoch 99/100\n",
      "0s - loss: 0.0020\n",
      "Epoch 100/100\n",
      "0s - loss: 0.0019\n"
     ]
    },
    {
     "data": {
      "text/plain": [
       "<keras.callbacks.History at 0x1137e0d30>"
      ]
     },
     "execution_count": 19,
     "metadata": {},
     "output_type": "execute_result"
    }
   ],
   "source": [
    "# create and fit the LSTM network\n",
    "model = Sequential()\n",
    "model.add(LSTM(4, input_dim=look_back))\n",
    "model.add(Dense(1))\n",
    "model.compile(loss='mean_squared_error', optimizer='adam')\n",
    "model.fit(trainX, trainY, nb_epoch=100, batch_size=1, verbose=2)"
   ]
  },
  {
   "cell_type": "markdown",
   "metadata": {},
   "source": [
    "## Making prediction"
   ]
  },
  {
   "cell_type": "code",
   "execution_count": 20,
   "metadata": {
    "collapsed": true
   },
   "outputs": [],
   "source": [
    "# make predictions\n",
    "trainPredict = model.predict(trainX)\n",
    "testPredict = model.predict(testX)"
   ]
  },
  {
   "cell_type": "code",
   "execution_count": 21,
   "metadata": {
    "collapsed": false
   },
   "outputs": [],
   "source": [
    "#trainPredict"
   ]
  },
  {
   "cell_type": "code",
   "execution_count": 22,
   "metadata": {
    "collapsed": true
   },
   "outputs": [],
   "source": [
    "# invert predictions\n",
    "trainPredict = scaler.inverse_transform(trainPredict)\n",
    "trainY = scaler.inverse_transform([trainY])\n",
    "testPredict = scaler.inverse_transform(testPredict)\n",
    "testY = scaler.inverse_transform([testY])"
   ]
  },
  {
   "cell_type": "code",
   "execution_count": 23,
   "metadata": {
    "collapsed": false
   },
   "outputs": [],
   "source": [
    "#trainPredict"
   ]
  },
  {
   "cell_type": "code",
   "execution_count": 24,
   "metadata": {
    "collapsed": false
   },
   "outputs": [
    {
     "name": "stdout",
     "output_type": "stream",
     "text": [
      "Train Score: 22.79 RMSE\n",
      "Test Score: 48.80 RMSE\n"
     ]
    }
   ],
   "source": [
    "# calculate root mean squared error\n",
    "trainScore = math.sqrt(mean_squared_error(trainY[0], trainPredict[:,0]))\n",
    "print('Train Score: %.2f RMSE' % (trainScore))\n",
    "testScore = math.sqrt(mean_squared_error(testY[0], testPredict[:,0]))\n",
    "print('Test Score: %.2f RMSE' % (testScore))"
   ]
  },
  {
   "cell_type": "code",
   "execution_count": 25,
   "metadata": {
    "collapsed": false
   },
   "outputs": [
    {
     "data": {
      "image/png": "[encoded data removed]",
      "text/plain": [
       "<matplotlib.figure.Figure at 0x115f532e8>"
      ]
     },
     "metadata": {},
     "output_type": "display_data"
    }
   ],
   "source": [
    "# shift train predictions for plotting\n",
    "trainPredictPlot = np.empty_like(scaled_dataset)\n",
    "trainPredictPlot[:, :] = np.nan\n",
    "trainPredictPlot[look_back:len(trainPredict)+look_back, :] = trainPredict\n",
    "# shift test predictions for plotting\n",
    "testPredictPlot = np.empty_like(scaled_dataset)\n",
    "testPredictPlot[:, :] = np.nan\n",
    "testPredictPlot[len(trainPredict)+(look_back*2)+1:len(dataset)-1, :] = testPredict\n",
    "# plot baseline and predictions\n",
    "plt.plot(scaler.inverse_transform(scaled_dataset))\n",
    "plt.plot(trainPredictPlot)\n",
    "plt.plot(testPredictPlot)\n",
    "plt.show()\n",
    "plt.close()"
   ]
  },
  {
   "cell_type": "code",
   "execution_count": null,
   "metadata": {
    "collapsed": true
   },
   "outputs": [],
   "source": []
  }
 ],
 "metadata": {
  "kernelspec": {
   "display_name": "Python 3",
   "language": "python",
   "name": "python3"
  },
  "language_info": {
   "codemirror_mode": {
    "name": "ipython",
    "version": 3
   },
   "file_extension": ".py",
   "mimetype": "text/x-python",
   "name": "python",
   "nbconvert_exporter": "python",
   "pygments_lexer": "ipython3",
   "version": "3.5.2"
  },
  "toc": {
   "colors": {
    "hover_highlight": "#DAA520",
    "running_highlight": "#FF0000",
    "selected_highlight": "#FFD700"
   },
   "moveMenuLeft": true,
   "nav_menu": {
    "height": "102px",
    "width": "252px"
   },
   "navigate_menu": true,
   "number_sections": true,
   "sideBar": true,
   "threshold": 4,
   "toc_cell": false,
   "toc_section_display": "block",
   "toc_window_display": false
  }
 },
 "nbformat": 4,
 "nbformat_minor": 2
}
